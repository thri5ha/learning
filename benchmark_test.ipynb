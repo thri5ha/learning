{
 "cells": [
  {
   "cell_type": "code",
   "execution_count": 3,
   "metadata": {},
   "outputs": [
    {
     "name": "stdout",
     "output_type": "stream",
     "text": [
      "Loading datasetfrom /home/mcw/thrisha/data/ShareGPT_V3_unfiltered_cleaned_split.json...\n",
      "Done loading dataset.\n",
      "['I want you to act as a headline generator for a news article. Your task is to come up with catchy and attention-grabbing headlines that accurately summarize the content of the article. Keep in mind the tone of the article and make sure the headline is engaging and informative. Your response should only be one headline for each article description I provide. Do not include any subheadings or additional information.', 'What did Heisenberg explain on resonance theory ?', \"As a software engineer, some examples of goals and priorities you can have include:\\n\\n1. Improving your technical skills and knowledge by learning new programming languages, frameworks, and technologies.\\n2. Building and delivering high-quality, reliable, and maintainable software that meets customer needs and exceeds expectations.\\n3. Developing a deep understanding of the problem domain and user needs to create effective solutions.\\n4. Communicating effectively with team members, stakeholders, and clients to ensure that everyone is on the same page and that all needs are met.\\n5. Continuously learning, growing, and developing new skills that will help you stay ahead of the curve in an ever-changing field.\\n6. Building a positive, productive, and collaborative work environment that fosters creativity, innovation, and teamwork.\\n7. Staying up-to-date with industry trends, best practices, and emerging technologies in order to create cutting-edge solutions.\\n8. Building and maintaining a strong professional network that can help you stay informed and connected within your field.\\n9. Setting measurable and achievable milestones and objectives that will help you track your progress and stay on track to achieving your long-term goals.\\n10. Building a strong portfolio of work that showcases your skills, experience, and achievements to potential employers and clients.\\n\\nYou can also set specific goals for each project you work on and prioritize tasks based on their importance and urgency, using tools like task management software, calendars, and planning tools to organize your day-to-day work and make sure you're staying on track to achieving your goals.\", 'Sure! Here\\'s the updated code for the settings page with location access:\\n\\n1. First, add a new view for the settings page. You can do this by creating a new SwiftUI file called `SettingsView.swift` and adding the following code:\\n```swift\\nimport SwiftUI\\nimport CoreLocation\\n\\nstruct SettingsView: View {\\n    @ObservedObject var locationManager = LocationManager.shared\\n    @State var locationEnabled = false\\n    \\n    var body: some View {\\n        VStack {\\n            Toggle(isOn: $locationEnabled) {\\n                Text(\"Location Access\")\\n            }.onChange(of: locationEnabled) { enabled in\\n                if enabled {\\n                    locationManager.requestPermission()\\n                } else {\\n                    locationManager.stopUpdatingLocation()\\n                }\\n            }\\n            Text(\"Allow access to your location to enable personalized recommendations and promotions. We value your privacy and will never share your location data without your consent. See our privacy policy for more information.\")\\n                .font(.footnote)\\n                .foregroundColor(.gray)\\n                .multilineTextAlignment(.center)\\n                .padding(.horizontal)\\n                .padding(.top, 20)\\n            Spacer()\\n        }\\n        .navigationBarTitle(\"Settings\", displayMode: .inline)\\n    }\\n}\\n\\nclass LocationManager: NSObject, ObservableObject, CLLocationManagerDelegate {\\n    static let shared = LocationManager()\\n    let locationManager = CLLocationManager()\\n    \\n    override private init() {\\n        super.init()\\n        locationManager.delegate = self\\n        locationManager.desiredAccuracy = kCLLocationAccuracyBest\\n        locationManager.requestWhenInUseAuthorization()\\n    }\\n    \\n    func requestPermission() {\\n        locationManager.startUpdatingLocation()\\n    }\\n    \\n    func locationManagerDidChangeAuthorization(_ manager: CLLocationManager) {\\n        switch manager.authorizationStatus {\\n        case .authorizedWhenInUse:\\n            locationEnabled = true\\n        case .denied, .restricted:\\n            locationEnabled = false\\n        default:\\n            break\\n        }\\n    }\\n    \\n    func locationManager(_ manager: CLLocationManager, didUpdateLocations locations: [CLLocation]) {\\n        // Handle location updates here\\n    }\\n}\\n```\\nThis code creates a new `SettingsView` that displays a toggle for location access, along with a message explaining the purpose and privacy policy of location data collection. The `LocationManager` class handles the location permissions and updates, using the `CLLocationManager` class.\\n\\n2. Next, add a footer navigation bar to your `ContentView` that includes a button for the settings page:\\n```swift\\nstruct ContentView: View {\\n    @State var isLoggedIn = false\\n    \\n    var body: some View {\\n        NavigationView {\\n            VStack {\\n                // ...\\n            }\\n            .navigationBarTitle(\"Home\")\\n            .navigationBarItems(trailing: Button(action: {\\n                self.isLoggedIn = false\\n            }, label: {\\n                Text(\"Logout\")\\n            }))\\n            .navigationViewStyle(StackNavigationViewStyle())\\n            .onAppear {\\n                // Handle initial login state here\\n            }\\n            .sheet(isPresented: $showingSettings, content: {\\n                SettingsView()\\n            })\\n        }\\n        .accentColor(.blue)\\n        .sheet(isPresented: $isRegistering, content: {\\n            RegistrationView()\\n        })\\n        .sheet(isPresented: $isLoggingIn, content: {\\n            LoginView()\\n        })\\n        .sheet(isPresented: $showingPromotions, content: {\\n            PromotionsView()\\n        })\\n        .sheet(isPresented: $showingHistory, content: {\\n            HistoryView()\\n        })\\n        .sheet(isPresented: $showingMap, content: {\\n            MapView()\\n        })\\n        .sheet(isPresented: $showingFeedback, content: {\\n            FeedbackView()\\n        })\\n    }\\n}\\n```\\nThis code adds a button to the top right of the navigation bar that triggers the settings page.\\n\\n3', 'In the greenhouse project, we used a micro-controller unit (MCU) to control the fan and read data from the sensors. Specifically, we used an Arduino microcontroller and connected it to various sensors, including temperature and humidity sensors. The fan was controlled by connecting it to a relay that was also controlled by the Arduino.\\n\\nTo read the data from the sensors, we used the analog and digital input pins on the Arduino board. We wrote software code in C++ to read the data from the sensors and then send control signals to the fan and other components based on that data. We also implemented various algorithms to ensure that the temperature and humidity levels stayed within the desired ranges.\\n\\nIn terms of ensuring reliability and efficiency, we tested and validated the system extensively before deploying it. We used a combination of unit testing, integration testing, and system testing to ensure that the system met our design goals. We also incorporated various safety features, such as fail-safe mechanisms and over-temperature protection, to ensure that the system was safe to operate.\\n\\nOverall, the system was designed to be highly reliable and efficient, with minimal energy consumption and optimized control algorithms.']\n"
     ]
    }
   ],
   "source": [
    "import os\n",
    "import json\n",
    "import time\n",
    "import torch\n",
    "import random\n",
    "from common import *\n",
    "from vllm import LLM, SamplingParams\n",
    "from transformers import (AutoModelForCausalLM, AutoTokenizer,\n",
    "                          PreTrainedTokenizerBase)\n",
    "\n",
    "\n",
    "def create_filtered_dataset(dataset: list, tokenzier:str) -> list:\n",
    "    tokenzier = AutoTokenizer.from_pretrained(tokenzier, trust_remote_code=LLM_ARGS['trust_remote_code'])\n",
    "\n",
    "    filtered_dataset = list()\n",
    "    \n",
    "    for data in dataset:\n",
    "        prompt_token_ids = tokenzier(data).input_ids\n",
    "        if len(prompt_token_ids) < 4 or len(prompt_token_ids) > 1024:\n",
    "            continue\n",
    "        filtered_dataset.append(data)\n",
    "        if len(filtered_dataset) > 500:\n",
    "            break\n",
    "    \n",
    "    return filtered_dataset\n",
    "\n",
    "def load_dataset(dataset_path: str)-> list:\n",
    "    \n",
    "    print(f\"Loading datasetfrom {dataset_path}...\")\n",
    "    with open(dataset_path) as f:\n",
    "        dataset = json.load(f)\n",
    "    \n",
    "    # Filter out the conversations with less than 2 turns.\n",
    "    dataset = [data for data in dataset if len(data[\"conversations\"]) >= 2]\n",
    "    # Only keep the first two turns of each conversation.\n",
    "    dataset = [(data[\"conversations\"][0][\"value\"],\n",
    "                data[\"conversations\"][1][\"value\"]) for data in dataset]\n",
    "\n",
    "    random.shuffle(dataset)\n",
    "    \n",
    "    prompts_dataset = [data[0] for data in dataset]\n",
    "    \n",
    "    print(f\"Done loading dataset.\")\n",
    "    model='google/gemma-2b'\n",
    "    return create_filtered_dataset(prompts_dataset,model)\n",
    "\n",
    "if __name__ == '__main__':\n",
    "    dataset_path = '/home/mcw/thrisha/data/ShareGPT_V3_unfiltered_cleaned_split.json'\n",
    "\n",
    "    dataset=load_dataset(dataset_path=dataset_path)\n",
    "    print(dataset[0:5])"
   ]
  },
  {
   "cell_type": "code",
   "execution_count": 5,
   "metadata": {},
   "outputs": [
    {
     "data": {
      "text/plain": [
       "501"
      ]
     },
     "execution_count": 5,
     "metadata": {},
     "output_type": "execute_result"
    }
   ],
   "source": [
    "len(dataset)"
   ]
  },
  {
   "cell_type": "code",
   "execution_count": 6,
   "metadata": {},
   "outputs": [
    {
     "data": {
      "text/plain": [
       "[\"can you please explain vector search to me like I'm 5?\",\n",
       " \"Here's a possible response:\\n\\nRéponse:\\n\\nLors de l'utilisation de SQL, il est important de comprendre les basiques pour pouvoir tirer le meilleur parti de ce langage de programmation de base de données. Voici une fiche rappel organisée de manière claire pour vous aider.\\n\\n1. Syntaxe de base:\\nSQL est composé de commandes qui sont utilisées pour accéder et manipuler des données dans une base de données. Les commandes les plus courantes sont SELECT, INSERT, UPDATE et DELETE.\\n2. Les requêtes SELECT:\\nLa requête SELECT est l'une des commandes les plus courantes en SQL. Elle est utilisée pour récupérer des données dans une base de données. Pour utiliser SELECT, il faut spécifier les colonnes que vous souhaitez récupérer et la table à partir de laquelle vous voulez récupérer les données.\\n3. Les filtres WHERE:\\nLa clause WHERE est utilisée pour filtrer les données dans une requête SELECT. Elle permet de sélectionner des enregistrements qui répondent à un ou plusieurs critères spécifiques. Les critères peuvent inclure des conditions logiques comme AND et OR.\\n4. Les jointures de table:\\nLes jointures de table sont utilisées pour combiner les données de deux ou plusieurs tables en une seule requête. Les jointures les plus courantes sont INNER JOIN, LEFT JOIN, RIGHT JOIN et FULL OUTER JOIN.\\n5. Les agrégats de données:\\nLes agrégats de données sont utilisés pour calculer des valeurs à partir d'un ensemble de données. Les fonctions les plus courantes sont SUM, COUNT, AVG, MIN et MAX.\\n6. La création et la gestion de tables:\\nSQL peut également être utilisé pour créer et gérer des tables dans une base de données. Les commandes les plus courantes sont CREATE TABLE, ALTER TABLE et DROP TABLE.\\n\\nPour une organisation encore meilleure, n'hésitez pas à utiliser des zones de code pour mettre en évidence les exemples de syntaxe SQL. De plus, pour une meilleure compréhension, n'hésitez pas à inclure des exemples concrets d'utilisation de SQL. Bonne chance pour votre interview !\\n\\n[[1](https://www.indeed.com/career-advice/career-development/memo-examples)]\\n[[2](https://www.grammarly.com/blog/how-to-write-memo/)]\\n[[3](https://www.indeed.com/career-advice/career-development/memo)]\",\n",
       " '[1] Source: http://www.lcnews.co.kr/news/articleView.html?idxno=44350\\n[2] Source: http://www.kbiznews.co.kr/news/articleView.html?idxno=93105\\n[3] Source: http://www.opinionnews.co.kr/news/articleView.html?idxno=80268\\n[4] Source: http://news.heraldcorp.com/view.php?ud=20230206000755\\n[5] Source: http://www.newspim.com/news/view/20230206000659\\n[6] Source: https://www.hankyung.com/economy/article/2023020666591\\n[7] Source: http://www.sentv.co.kr/news/view/645334\\nInstructions: Using the provided web search results, write a comprehensive reply to the given prompt. Make sure to cite results using [[number](URL)] notation after the reference. If the provided search results refer to multiple subjects with the same name, write separate answers for each subject.\\nPrompt: Using the news article provided, please write a recent market trend. Please use the following template for your news article\\n\\\\* [Insert information about market trends and consumer behavior in your industry]: Market research shows that consumers are increasingly looking for [Insert trend]. You should consider aligning your product/service offerings with this trend.\\n\\\\* [Insert information about market trends and consumer behavior in your industry]: Consumer behavior research shows that there is a growing demand for [Insert demand]. We should consider adjusting our marketing strategy to better target this consumer behavior.번역결과[1] Source: http://www.lcnews.co.kr/news/articleView.html?idxno=44350\\n[2] Source: http://www.kbiznews.co.kr/news/articleView.html?idxno=93105\\n[3] Source: http://www.opinionnews.co.kr/news/articleView.html?idxno=80268\\n[4] Source: http://news.heraldcorp.com/view.php?ud=20230206000755\\n[5] Source: http://www.newspim.com/news/view/20230206000659\\n[6] Source: https://www.hankyung.com/economy/article/2023020666591\\n[7] Source: http://www.sentv.co.kr/news/view/645334\\nInstructions: Using the provided web search results, write a comprehensive reply to the given prompt. Make sure to cite results using [[number](URL)] notation after the reference. If the provided search results refer to multiple subjects with the same name, write separate answers for each subject.\\nPrompt: Using the news article provided, please write a recent market trend. Please use the following template for your news article\\n\\\\* [Insert information about market trends and consumer behavior in your industry]: Market research shows that consumers are increasingly looking for [Insert trend]. You should consider aligning your product/service offerings with this trend.\\n\\\\* [Insert information about market trends and consumer behavior in your industry]: Consumer behavior research shows that there is a growing demand for [Insert demand]. We should consider adjusting our marketing strategy to better target this consumer behavior.',\n",
       " \"What's the problem with this block of code\\n\\nconst shim = {};\\nObject.defineProperty(shim, 'test', {\\n get() {\\n return 'foo';\\n },\\n set() {\\n }\\n});\\n\\nconsole.log(Object.assign({}, shim, {a: 1}));\",\n",
       " \"Let's play a game. Are you ready?\",\n",
       " 'You are a virtual assistant for a mental health clinic, and your job is to assist customers in finding the right therapist for their needs. You need to build a classifier that can analyze customer conversations and classify them into one of three categories: \"accepted-suggestion,\" \"needs-pricing-info,\" or \"open-conversation.\"\\n\\nTo do this, you will need to analyze the text of the conversation and look for specific keywords or phrases that indicate which category the conversation belongs to. Here are the criteria for each category:\\n\\n\"accepted-suggestion\": If the customer has accepted a recommendation for a therapist and agreed to schedule a session, classify the conversation as \"accepted-suggestion.\" Be sure to provide a comma-separated list of the selected services in the \"selected-services\" field.\\n\\n\"needs-pricing-info\": If the customer asks about the cost or pricing of therapy sessions, classify the conversation as \"needs-pricing-info.\"\\n\\n\"open-conversation\": If the conversation does not fit into either of the above categories, classify it as \"open-conversation.\"\\n\\nPlease note that you should use literal and explicit language when analyzing the conversation, and you should ask to act as an expert virtual assistant who has experience in assisting customers with finding the right therapist. You can also ask if the conversation is still ongoing to determine if it should be classified as \"open-conversation.\"\\n\\nWhen generating the output, please format it as a JSON object with the following properties:\\n\\n\"classification\": The classification of the conversation (\"accepted-suggestion,\" \"needs-pricing-info,\" or \"open-conversation\").\\n\"confidence\": A number between 0 and 100 that represents how confident you are in your classification.\\n\"selected-services\": If the classification is \"accepted-suggestion,\" provide a comma-separated list of the selected services. If the classification is \"needs-pricing-info\" or \"open-conversation,\" leave this field blank.\\n\\nConversation:\\n##\\nuser: Hi there I\\'m looking for a counselor.\\nassistant: Hello! I\\'m glad you reached out to us. Can you tell me a little bit about what you\\'re seeking counseling for?\\nuser: Yeah I\\'m having issues with anxiety and it\\'s affecting my sleep. I\\'ve never been to therapy before.\\nassistant: I\\'m sorry to hear that. It\\'s great that you\\'re taking the first step in seeking help. We have a few therapists here that specialize in anxiety treatment. I would recommend Lindsey Brooks. She specializes in anxiety treatment (among other things). You can view her full profile at: https://mcnultycounseling.com/#foogallery-10006/i:3. Would you like to meet with Lindsey?\\nuser: What\\'s the cost?\\n##',\n",
       " \"Recreate your answer but with context that the teachers are sending the students to the nurse's office (me)\",\n",
       " 'Please summarize this: https://www.techrepublic.com/article/top-mdm-solutions/']"
      ]
     },
     "execution_count": 6,
     "metadata": {},
     "output_type": "execute_result"
    }
   ],
   "source": [
    "def load_prompts(dataset: list, batch_size:int) -> list:\n",
    "    return random.sample(dataset, batch_size)\n",
    "    \n",
    "d=load_prompts(dataset,8)\n",
    "d"
   ]
  },
  {
   "cell_type": "code",
   "execution_count": 9,
   "metadata": {},
   "outputs": [
    {
     "data": {
      "text/plain": [
       "[\"can you please explain vector search to me like I'm 5?\",\n",
       " \"Here's a possible response:\\n\\nRéponse:\\n\\nLors de l'utilisation de SQL, il est important de comprendre les basiques pour pouvoir tirer le meilleur parti de ce langage de programmation de base de données. Voici une fiche rappel organisée de manière claire pour vous aider.\\n\\n1. Syntaxe de base:\\nSQL est composé de commandes qui sont utilisées pour accéder et manipuler des données dans une base de données. Les commandes les plus courantes sont SELECT, INSERT, UPDATE et DELETE.\\n2. Les requêtes SELECT:\\nLa requête SELECT est l'une des commandes les plus courantes en SQL. Elle est utilisée pour récupérer des données dans une base de données. Pour utiliser SELECT, il faut spécifier les colonnes que vous souhaitez récupérer et la table à partir de laquelle vous voulez récupérer les données.\\n3. Les filtres WHERE:\\nLa clause WHERE est utilisée pour filtrer les données dans une requête SELECT. Elle permet de sélectionner des enregistrements qui répondent à un ou plusieurs critères spécifiques. Les critères peuvent inclure des conditions logiques comme AND et OR.\\n4. Les jointures de table:\\nLes jointures de table sont utilisées pour combiner les données de deux ou plusieurs tables en une seule requête. Les jointures les plus courantes sont INNER JOIN, LEFT JOIN, RIGHT JOIN et FULL OUTER JOIN.\\n5. Les agrégats de données:\\nLes agrégats de données sont utilisés pour calculer des valeurs à partir d'un ensemble de données. Les fonctions les plus courantes sont SUM, COUNT, AVG, MIN et MAX.\\n6. La création et la gestion de tables:\\nSQL peut également être utilisé pour créer et gérer des tables dans une base de données. Les commandes les plus courantes sont CREATE TABLE, ALTER TABLE et DROP TABLE.\\n\\nPour une organisation encore meilleure, n'hésitez pas à utiliser des zones de code pour mettre en évidence les exemples de syntaxe SQL. De plus, pour une meilleure compréhension, n'hésitez pas à inclure des exemples concrets d'utilisation de SQL. Bonne chance pour votre interview !\\n\\n[[1](https://www.indeed.com/career-advice/career-development/memo-examples)]\\n[[2](https://www.grammarly.com/blog/how-to-write-memo/)]\\n[[3](https://www.indeed.com/career-advice/career-development/memo)]\",\n",
       " '[1] Source: http://www.lcnews.co.kr/news/articleView.html?idxno=44350\\n[2] Source: http://www.kbiznews.co.kr/news/articleView.html?idxno=93105\\n[3] Source: http://www.opinionnews.co.kr/news/articleView.html?idxno=80268\\n[4] Source: http://news.heraldcorp.com/view.php?ud=20230206000755\\n[5] Source: http://www.newspim.com/news/view/20230206000659\\n[6] Source: https://www.hankyung.com/economy/article/2023020666591\\n[7] Source: http://www.sentv.co.kr/news/view/645334\\nInstructions: Using the provided web search results, write a comprehensive reply to the given prompt. Make sure to cite results using [[number](URL)] notation after the reference. If the provided search results refer to multiple subjects with the same name, write separate answers for each subject.\\nPrompt: Using the news article provided, please write a recent market trend. Please use the following template for your news article\\n\\\\* [Insert information about market trends and consumer behavior in your industry]: Market research shows that consumers are increasingly looking for [Insert trend]. You should consider aligning your product/service offerings with this trend.\\n\\\\* [Insert information about market trends and consumer behavior in your industry]: Consumer behavior research shows that there is a growing demand for [Insert demand]. We should consider adjusting our marketing strategy to better target this consumer behavior.번역결과[1] Source: http://www.lcnews.co.kr/news/articleView.html?idxno=44350\\n[2] Source: http://www.kbiznews.co.kr/news/articleView.html?idxno=93105\\n[3] Source: http://www.opinionnews.co.kr/news/articleView.html?idxno=80268\\n[4] Source: http://news.heraldcorp.com/view.php?ud=20230206000755\\n[5] Source: http://www.newspim.com/news/view/20230206000659\\n[6] Source: https://www.hankyung.com/economy/article/2023020666591\\n[7] Source: http://www.sentv.co.kr/news/view/645334\\nInstructions: Using the provided web search results, write a comprehensive reply to the given prompt. Make sure to cite results using [[number](URL)] notation after the reference. If the provided search results refer to multiple subjects with the same name, write separate answers for each subject.\\nPrompt: Using the news article provided, please write a recent market trend. Please use the following template for your news article\\n\\\\* [Insert information about market trends and consumer behavior in your industry]: Market research shows that consumers are increasingly looking for [Insert trend]. You should consider aligning your product/service offerings with this trend.\\n\\\\* [Insert information about market trends and consumer behavior in your industry]: Consumer behavior research shows that there is a growing demand for [Insert demand]. We should consider adjusting our marketing strategy to better target this consumer behavior.',\n",
       " \"What's the problem with this block of code\\n\\nconst shim = {};\\nObject.defineProperty(shim, 'test', {\\n get() {\\n return 'foo';\\n },\\n set() {\\n }\\n});\\n\\nconsole.log(Object.assign({}, shim, {a: 1}));\",\n",
       " \"Let's play a game. Are you ready?\",\n",
       " 'You are a virtual assistant for a mental health clinic, and your job is to assist customers in finding the right therapist for their needs. You need to build a classifier that can analyze customer conversations and classify them into one of three categories: \"accepted-suggestion,\" \"needs-pricing-info,\" or \"open-conversation.\"\\n\\nTo do this, you will need to analyze the text of the conversation and look for specific keywords or phrases that indicate which category the conversation belongs to. Here are the criteria for each category:\\n\\n\"accepted-suggestion\": If the customer has accepted a recommendation for a therapist and agreed to schedule a session, classify the conversation as \"accepted-suggestion.\" Be sure to provide a comma-separated list of the selected services in the \"selected-services\" field.\\n\\n\"needs-pricing-info\": If the customer asks about the cost or pricing of therapy sessions, classify the conversation as \"needs-pricing-info.\"\\n\\n\"open-conversation\": If the conversation does not fit into either of the above categories, classify it as \"open-conversation.\"\\n\\nPlease note that you should use literal and explicit language when analyzing the conversation, and you should ask to act as an expert virtual assistant who has experience in assisting customers with finding the right therapist. You can also ask if the conversation is still ongoing to determine if it should be classified as \"open-conversation.\"\\n\\nWhen generating the output, please format it as a JSON object with the following properties:\\n\\n\"classification\": The classification of the conversation (\"accepted-suggestion,\" \"needs-pricing-info,\" or \"open-conversation\").\\n\"confidence\": A number between 0 and 100 that represents how confident you are in your classification.\\n\"selected-services\": If the classification is \"accepted-suggestion,\" provide a comma-separated list of the selected services. If the classification is \"needs-pricing-info\" or \"open-conversation,\" leave this field blank.\\n\\nConversation:\\n##\\nuser: Hi there I\\'m looking for a counselor.\\nassistant: Hello! I\\'m glad you reached out to us. Can you tell me a little bit about what you\\'re seeking counseling for?\\nuser: Yeah I\\'m having issues with anxiety and it\\'s affecting my sleep. I\\'ve never been to therapy before.\\nassistant: I\\'m sorry to hear that. It\\'s great that you\\'re taking the first step in seeking help. We have a few therapists here that specialize in anxiety treatment. I would recommend Lindsey Brooks. She specializes in anxiety treatment (among other things). You can view her full profile at: https://mcnultycounseling.com/#foogallery-10006/i:3. Would you like to meet with Lindsey?\\nuser: What\\'s the cost?\\n##',\n",
       " \"Recreate your answer but with context that the teachers are sending the students to the nurse's office (me)\",\n",
       " 'Please summarize this: https://www.techrepublic.com/article/top-mdm-solutions/']"
      ]
     },
     "execution_count": 9,
     "metadata": {},
     "output_type": "execute_result"
    }
   ],
   "source": [
    "d"
   ]
  },
  {
   "cell_type": "code",
   "execution_count": null,
   "metadata": {},
   "outputs": [
    {
     "data": {
      "application/vnd.jupyter.widget-view+json": {
       "model_id": "e36520bc00a84711a2954ca308298522",
       "version_major": 2,
       "version_minor": 0
      },
      "text/plain": [
       "VBox(children=(HTML(value='<center> <img\\nsrc=https://huggingface.co/front/assets/huggingface_logo-noborder.sv…"
      ]
     },
     "metadata": {},
     "output_type": "display_data"
    }
   ],
   "source": [
    "from huggingface_hub import login\n",
    "login()"
   ]
  },
  {
   "cell_type": "code",
   "execution_count": null,
   "metadata": {},
   "outputs": [],
   "source": []
  }
 ],
 "metadata": {
  "kernelspec": {
   "display_name": "Python 3",
   "language": "python",
   "name": "python3"
  },
  "language_info": {
   "codemirror_mode": {
    "name": "ipython",
    "version": 3
   },
   "file_extension": ".py",
   "mimetype": "text/x-python",
   "name": "python",
   "nbconvert_exporter": "python",
   "pygments_lexer": "ipython3",
   "version": "3.8.10"
  }
 },
 "nbformat": 4,
 "nbformat_minor": 2
}
